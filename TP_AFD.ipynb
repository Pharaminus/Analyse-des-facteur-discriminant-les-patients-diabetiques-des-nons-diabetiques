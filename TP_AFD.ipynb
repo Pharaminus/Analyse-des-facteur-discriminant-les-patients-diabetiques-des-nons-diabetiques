{
 "cells": [
  {
   "cell_type": "markdown",
   "metadata": {},
   "source": [
    "### **Analyse-des-facteur-discriminant-les-patients-diabetiques-des-nons-diabetiques-en-utilisant-l'analyse-factorielle-discriminante (AFD)**"
   ]
  },
  {
   "cell_type": "markdown",
   "metadata": {},
   "source": [
    "## **Contexte**"
   ]
  },
  {
   "cell_type": "markdown",
   "metadata": {},
   "source": [
    "Dans ce cas concret, nous appliquons l’analyse factorielle discriminante (AFD) à un jeu\n",
    "de données réel extrait du fichier diabetes.csv. Ce jeu de données est largement utilisé\n",
    "dans le domaine médical pour étudier le diabète. Il contient plusieurs variables quantita-\n",
    "tives telles que la glycémie, l’indice de masse corporelle (IMC), la pression artérielle, ainsi\n",
    "que d’autres paramètres biologiques.\n",
    "Les observations représentent des patients, et une variable qualitative indique l’appar-\n",
    "tenance à l’une des classes suivantes :\n",
    "\n",
    "**Diabétique** et **Non-diabétique**\n",
    "####\n",
    "L’objectif est de comprendre quelles variables discriminent le mieux les patients dia-\n",
    "bétiques des non-diabétiques et de visualiser cette séparation dans un espace réduit."
   ]
  },
  {
   "cell_type": "markdown",
   "metadata": {},
   "source": [
    "### **Importation des bibliotheques**"
   ]
  },
  {
   "cell_type": "code",
   "execution_count": 1,
   "metadata": {},
   "outputs": [],
   "source": [
    "import pandas as pd\n",
    "import numpy as np\n",
    "import matplotlib.pyplot as plt\n",
    "import seaborn as sns\n",
    "\n",
    "from sklearn.model_selection import train_test_split\n",
    "from sklearn.preprocessing import StandardScaler\n",
    "from sklearn.discriminant_analysis import LinearDiscriminantAnalysis\n",
    "from sklearn.metrics import classification_report, confusion_matrix, accuracy_score"
   ]
  },
  {
   "cell_type": "markdown",
   "metadata": {},
   "source": [
    "### Classe implementant toutes les fonctionnalites du projet"
   ]
  },
  {
   "cell_type": "code",
   "execution_count": 7,
   "metadata": {},
   "outputs": [],
   "source": [
    "class DiscriminantAnalyser:\n",
    "    def __init__(self, filepath=None, colonneCible=None):\n",
    "        \"\"\"\n",
    "            Initialisation de l'analyseur discriminant\n",
    "        \n",
    "            Parameters:\n",
    "            -----------\n",
    "            filepath : str, optional\n",
    "            Chemin vers le fichier de données CSV\n",
    "        \"\"\"\n",
    "        self.data = None\n",
    "        self.X = None\n",
    "        self.y = None\n",
    "        self.feature_names = None\n",
    "        self.scaler = StandardScaler()\n",
    "        self.lda = None\n",
    "        self.colonne_cible = colonneCible\n",
    "        \n",
    "        #=======( Chargeons les données si un chemin est fourni )======\n",
    "        if filepath:\n",
    "            self.load_data(filepath)\n",
    "            \n",
    "        # #=======( definisons  la colonne cible si elle est definit )======\n",
    "        # if colonneCible:\n",
    "        #     self.colonne_cible = colonneCible\n",
    "    \n",
    "    # ===( Fonction nous permettant de charger les donnees )===\n",
    "    def load_data(self, filepath):\n",
    "        \"\"\"\n",
    "            Charger les données à partir d'un fichier CSV\n",
    "        \n",
    "            Parameters:\n",
    "        -----------\n",
    "            filepath : str\n",
    "            Chemin vers le fichier de données\n",
    "        \"\"\"\n",
    "        #===( Charger le dataset )==\n",
    "        self.data = pd.read_csv(filepath)\n",
    "        \n",
    "        #==( Identifions la colonne cible )==\n",
    "        target_column = self.colonne_cible\n",
    "        \n",
    "        #==( Séparation features et target )==\n",
    "        self.X = self.data.drop(target_column, axis=1)\n",
    "        self.y = self.data[target_column]\n",
    "        self.feature_names = self.X.columns.tolist()\n",
    "        \n",
    "        \n",
    "        print(\"Colonnes du dataset:\", self.feature_names)\n",
    "        print(\"\\nDistribution des classes:\")\n",
    "        print(self.y.value_counts(normalize=True))\n",
    "    \n",
    "    # ====( Fonction nous permettant de preparer les donnees )====\n",
    "    def prepare_data(self, test_size=0.3, random_state=42):\n",
    "        \"\"\"\n",
    "            Préparer les données pour l'analyse discriminante\n",
    "        \n",
    "        Parameters:\n",
    "        -----------\n",
    "            test_size : float, optional\n",
    "                Proportion de données de test\n",
    "            random_state : int, optional\n",
    "                Graine pour la reproductibilité\n",
    "        \n",
    "        Returns:\n",
    "        --------\n",
    "        tuple : Données d'entraînement et de test\n",
    "        \"\"\"\n",
    "        # ===( Standardisons les  données )===\n",
    "        X_scaled = self.scaler.fit_transform(self.X)\n",
    "        \n",
    "        #===( Sépararons les donnees en train/test )==\n",
    "        X_train, X_test, y_train, y_test = train_test_split(\n",
    "            X_scaled, self.y, \n",
    "            test_size=test_size, \n",
    "            random_state=random_state\n",
    "        )\n",
    "        \n",
    "        return X_train, X_test, y_train, y_test\n",
    "    \n",
    "    # ==( Fonction permettant de realiser l'analyse factorielle discriminante )==\n",
    "    def perform_lda(self, n_components=None):\n",
    "        \"\"\"\n",
    "            Réaliser l'Analyse Discriminante Linéaire\n",
    "        \n",
    "        Parameters:\n",
    "        -----------\n",
    "            n_components : int, optional\n",
    "             Nombre de composantes à conserver\n",
    "        \n",
    "        Returns:\n",
    "        --------\n",
    "            array : Données projetées\n",
    "        \"\"\"\n",
    "        # ==( Préparons les données )==\n",
    "        X_train, X_test, y_train, y_test = self.prepare_data()\n",
    "        \n",
    "        #==( Déterminons le nombre de composantes si elle n'a pas ete definit )==\n",
    "        if n_components is None:\n",
    "            n_classes = len(np.unique(self.y))\n",
    "            n_features = self.X.shape[1]\n",
    "            n_components = min(n_classes - 1, n_features)\n",
    "        \n",
    "        #===(Creons notre modèle LDA pour effectuer l'analyse factorielle discriminante )==\n",
    "        self.lda = LinearDiscriminantAnalysis(n_components=n_components)\n",
    "        \n",
    "        #==( Ajustement et transformation )==\n",
    "        X_train_lda = self.lda.fit_transform(X_train, y_train)\n",
    "        \n",
    "        return X_train_lda, X_test, y_train, y_test\n",
    "    \n",
    "    def analyse_discriminant_variables(self):\n",
    "        \"\"\"\n",
    "            Analyser l'importance des variables discriminantes\n",
    "        \n",
    "        Returns:\n",
    "        --------\n",
    "            DataFrame : Variables classées par importance\n",
    "        \"\"\"\n",
    "        if self.lda is None:\n",
    "            self.perform_lda()\n",
    "        \n",
    "        #==( Récupérons les coefficients )==\n",
    "        coeffs = self.lda.coef_[0] if self.lda.coef_.ndim > 1 else self.lda.coef_\n",
    "        \n",
    "        #==( Créons un DataFrame avec les coefficients )==\n",
    "        coefficients = pd.DataFrame({\n",
    "            'Variable': self.feature_names,\n",
    "            'Coefficients': coeffs\n",
    "        })\n",
    "        \n",
    "        #==( Calculons l'importance absolue )==\n",
    "        coefficients['Importance_Absolue'] = np.abs(coefficients['Coefficients'])\n",
    "        coefficients_tries = coefficients.sort_values('Importance_Absolue', ascending=False)\n",
    "        \n",
    "        # ==( visualisons )==\n",
    "        plt.figure(figsize=(12, 6))\n",
    "        sns.barplot(x='Variable', y='Importance_Absolue', data=coefficients_tries)\n",
    "        plt.title('Importance des Variables Discriminantes')\n",
    "        plt.xticks(rotation=45, ha='right')\n",
    "        plt.tight_layout()\n",
    "        plt.show()\n",
    "        \n",
    "        return coefficients_tries\n",
    "    \n",
    "    def visualize_projection(self):\n",
    "        \"\"\"\n",
    "            Visualiser la projection des données sur les axes discriminants\n",
    "        \"\"\"\n",
    "        # ==(Realison la projection de l'AFD )==\n",
    "        X_lda, X_test, y_train, y_test = self.perform_lda()\n",
    "        \n",
    "        plt.figure(figsize=(10, 6))\n",
    "        scatter = plt.scatter(\n",
    "            X_lda[:, 0], \n",
    "            X_lda[:, 1] if X_lda.shape[1] > 1 else np.zeros_like(X_lda[:, 0]),\n",
    "            c=y_train, \n",
    "            cmap='viridis',\n",
    "            alpha=0.7\n",
    "        )\n",
    "        plt.colorbar(scatter)\n",
    "        plt.title('Projection des Données sur les Axes Discriminants')\n",
    "        plt.xlabel('Axe Discriminant 1')\n",
    "        plt.ylabel('Axe Discriminant 2' if X_lda.shape[1] > 1 else 'Axe Discriminant')\n",
    "        plt.grid(True)\n",
    "        plt.tight_layout()\n",
    "        plt.show()\n",
    "    \n",
    "    def evaluate_model(self):\n",
    "        \"\"\"\n",
    "        Évaluer les performances du modèle\n",
    "        \n",
    "        Returns:\n",
    "        --------\n",
    "        dict : Métriques de performance\n",
    "        \"\"\"\n",
    "        # ==( Preparons les donnees )==\n",
    "        X_train, X_test, y_train, y_test = self.prepare_data()\n",
    "        \n",
    "        # ==(Ajustons le modèle AFD)==\n",
    "        self.lda = LinearDiscriminantAnalysis()\n",
    "        self.lda.fit(X_train, y_train)\n",
    "        \n",
    "        # ==(Predictions)==\n",
    "        y_pred = self.lda.predict(X_test)\n",
    "        \n",
    "        # ==(Metriques)==\n",
    "        accuracy = accuracy_score(y_test, y_pred)\n",
    "        conf_matrix = confusion_matrix(y_test, y_pred)\n",
    "        class_report = classification_report(y_test, y_pred)\n",
    "        \n",
    "        # ==(Visualisons de la matrice de confusion)==\n",
    "        plt.figure(figsize=(8, 6))\n",
    "        sns.heatmap(conf_matrix, annot=True, fmt='d', cmap='Blues')\n",
    "        plt.title('Matrice de Confusion')\n",
    "        plt.ylabel('Vraies Étiquettes')\n",
    "        plt.xlabel('Étiquettes Prédites')\n",
    "        plt.tight_layout()\n",
    "        plt.show()\n",
    "        \n",
    "        # ==(Affichons les resultats)==\n",
    "        print(\"\\nAccuracy:\", accuracy)\n",
    "        print(\"\\nMatrice de Confusion:\")\n",
    "        print(conf_matrix)\n",
    "        print(\"\\nRapport de Classification:\")\n",
    "        print(class_report)\n",
    "        \n",
    "        return {\n",
    "            'accuracy': accuracy,\n",
    "            'confusion_matrix': conf_matrix,\n",
    "            'classification_report': class_report\n",
    "        }\n",
    "    \n",
    "    def predict_new_sample(self, sample):\n",
    "        \"\"\"\n",
    "        Prédire la classe pour un nouvel échantillon\n",
    "        \n",
    "        Parameters:\n",
    "        -----------\n",
    "        sample : array-like\n",
    "            Nouvel échantillon à classifier\n",
    "        \n",
    "        Returns:\n",
    "        --------\n",
    "        int : Classe prédite\n",
    "        \"\"\"\n",
    "        # ==(Verifions que le modele est ajuste )==\n",
    "        if self.lda is None:\n",
    "            self.perform_lda()\n",
    "        \n",
    "        # ==(Standardisons le nouvel echantillon)==\n",
    "        sample_scaled = self.scaler.transform([sample])\n",
    "        \n",
    "        # ==(Prediction)==\n",
    "        prediction = self.lda.predict(sample_scaled)\n",
    "        proba = self.lda.predict_proba(sample_scaled)\n",
    "        \n",
    "        return {\n",
    "            'classe_predite': prediction[0],\n",
    "            'probabilites': proba[0]\n",
    "        }\n"
   ]
  },
  {
   "cell_type": "markdown",
   "metadata": {},
   "source": [
    "### **Presantation du jeu de donnees**"
   ]
  },
  {
   "cell_type": "markdown",
   "metadata": {},
   "source": [
    "Le jeu de données, par exemple issu du fichier diabetes.csv, ayant 768 lignes et\n",
    "comporte les attributs suivants : <br>\n",
    "— `Pregnancies` : **Nombre de grossesses effectuées par la patiente.** <br>\n",
    "— `Glucose` : **Niveau de glucose dans le sang (mg/dL).** <br>\n",
    "— `BloodPressure` : **Pression artérielle (mm Hg).** <br>\n",
    "— `SkinThickness` : **Épaisseur de la peau, généralement mesurée au niveau des triceps\n",
    "(mm).** <br>\n",
    "— `Insulin` : **Niveau d’insuline dans le sang (mu U/mL).** <br>\n",
    "— `BMI` : **Indice de Masse Corporelle, calculé à partir du poids et de la taille.** <br>\n",
    "— `DiabetesPedigreeFunction` : **Fonction de pédigrée diabétique, reflétant la proba-\n",
    "bilité génétique du diabète.** <br>\n",
    "— `Age` : **Âge de la patiente (années).** <br>\n",
    "— `Outcome` : **Variable cible indiquant si la patiente est diabétique (1) ou non (0)**"
   ]
  },
  {
   "cell_type": "code",
   "execution_count": 29,
   "metadata": {},
   "outputs": [
    {
     "data": {
      "text/html": [
       "<div>\n",
       "<style scoped>\n",
       "    .dataframe tbody tr th:only-of-type {\n",
       "        vertical-align: middle;\n",
       "    }\n",
       "\n",
       "    .dataframe tbody tr th {\n",
       "        vertical-align: top;\n",
       "    }\n",
       "\n",
       "    .dataframe thead th {\n",
       "        text-align: right;\n",
       "    }\n",
       "</style>\n",
       "<table border=\"1\" class=\"dataframe\">\n",
       "  <thead>\n",
       "    <tr style=\"text-align: right;\">\n",
       "      <th></th>\n",
       "      <th>Pregnancies</th>\n",
       "      <th>Glucose</th>\n",
       "      <th>BloodPressure</th>\n",
       "      <th>SkinThickness</th>\n",
       "      <th>Insulin</th>\n",
       "      <th>BMI</th>\n",
       "      <th>DiabetesPedigreeFunction</th>\n",
       "      <th>Age</th>\n",
       "      <th>Outcome</th>\n",
       "    </tr>\n",
       "  </thead>\n",
       "  <tbody>\n",
       "    <tr>\n",
       "      <th>0</th>\n",
       "      <td>6</td>\n",
       "      <td>148</td>\n",
       "      <td>72</td>\n",
       "      <td>35</td>\n",
       "      <td>0</td>\n",
       "      <td>33.6</td>\n",
       "      <td>0.627</td>\n",
       "      <td>50</td>\n",
       "      <td>1</td>\n",
       "    </tr>\n",
       "    <tr>\n",
       "      <th>1</th>\n",
       "      <td>1</td>\n",
       "      <td>85</td>\n",
       "      <td>66</td>\n",
       "      <td>29</td>\n",
       "      <td>0</td>\n",
       "      <td>26.6</td>\n",
       "      <td>0.351</td>\n",
       "      <td>31</td>\n",
       "      <td>0</td>\n",
       "    </tr>\n",
       "    <tr>\n",
       "      <th>2</th>\n",
       "      <td>8</td>\n",
       "      <td>183</td>\n",
       "      <td>64</td>\n",
       "      <td>0</td>\n",
       "      <td>0</td>\n",
       "      <td>23.3</td>\n",
       "      <td>0.672</td>\n",
       "      <td>32</td>\n",
       "      <td>1</td>\n",
       "    </tr>\n",
       "    <tr>\n",
       "      <th>3</th>\n",
       "      <td>1</td>\n",
       "      <td>89</td>\n",
       "      <td>66</td>\n",
       "      <td>23</td>\n",
       "      <td>94</td>\n",
       "      <td>28.1</td>\n",
       "      <td>0.167</td>\n",
       "      <td>21</td>\n",
       "      <td>0</td>\n",
       "    </tr>\n",
       "    <tr>\n",
       "      <th>4</th>\n",
       "      <td>0</td>\n",
       "      <td>137</td>\n",
       "      <td>40</td>\n",
       "      <td>35</td>\n",
       "      <td>168</td>\n",
       "      <td>43.1</td>\n",
       "      <td>2.288</td>\n",
       "      <td>33</td>\n",
       "      <td>1</td>\n",
       "    </tr>\n",
       "  </tbody>\n",
       "</table>\n",
       "</div>"
      ],
      "text/plain": [
       "   Pregnancies  Glucose  BloodPressure  SkinThickness  Insulin   BMI  \\\n",
       "0            6      148             72             35        0  33.6   \n",
       "1            1       85             66             29        0  26.6   \n",
       "2            8      183             64              0        0  23.3   \n",
       "3            1       89             66             23       94  28.1   \n",
       "4            0      137             40             35      168  43.1   \n",
       "\n",
       "   DiabetesPedigreeFunction  Age  Outcome  \n",
       "0                     0.627   50        1  \n",
       "1                     0.351   31        0  \n",
       "2                     0.672   32        1  \n",
       "3                     0.167   21        0  \n",
       "4                     2.288   33        1  "
      ]
     },
     "execution_count": 29,
     "metadata": {},
     "output_type": "execute_result"
    }
   ],
   "source": [
    "data = pd.read_csv(\"./diabetes.csv\")\n",
    "data.head()"
   ]
  },
  {
   "cell_type": "code",
   "execution_count": 30,
   "metadata": {},
   "outputs": [
    {
     "data": {
      "text/html": [
       "<div>\n",
       "<style scoped>\n",
       "    .dataframe tbody tr th:only-of-type {\n",
       "        vertical-align: middle;\n",
       "    }\n",
       "\n",
       "    .dataframe tbody tr th {\n",
       "        vertical-align: top;\n",
       "    }\n",
       "\n",
       "    .dataframe thead th {\n",
       "        text-align: right;\n",
       "    }\n",
       "</style>\n",
       "<table border=\"1\" class=\"dataframe\">\n",
       "  <thead>\n",
       "    <tr style=\"text-align: right;\">\n",
       "      <th></th>\n",
       "      <th>Pregnancies</th>\n",
       "      <th>Glucose</th>\n",
       "      <th>BloodPressure</th>\n",
       "      <th>SkinThickness</th>\n",
       "      <th>Insulin</th>\n",
       "      <th>BMI</th>\n",
       "      <th>DiabetesPedigreeFunction</th>\n",
       "      <th>Age</th>\n",
       "      <th>Outcome</th>\n",
       "    </tr>\n",
       "  </thead>\n",
       "  <tbody>\n",
       "    <tr>\n",
       "      <th>count</th>\n",
       "      <td>768.000000</td>\n",
       "      <td>768.000000</td>\n",
       "      <td>768.000000</td>\n",
       "      <td>768.000000</td>\n",
       "      <td>768.000000</td>\n",
       "      <td>768.000000</td>\n",
       "      <td>768.000000</td>\n",
       "      <td>768.000000</td>\n",
       "      <td>768.000000</td>\n",
       "    </tr>\n",
       "    <tr>\n",
       "      <th>mean</th>\n",
       "      <td>3.845052</td>\n",
       "      <td>120.894531</td>\n",
       "      <td>69.105469</td>\n",
       "      <td>20.536458</td>\n",
       "      <td>79.799479</td>\n",
       "      <td>31.992578</td>\n",
       "      <td>0.471876</td>\n",
       "      <td>33.240885</td>\n",
       "      <td>0.348958</td>\n",
       "    </tr>\n",
       "    <tr>\n",
       "      <th>std</th>\n",
       "      <td>3.369578</td>\n",
       "      <td>31.972618</td>\n",
       "      <td>19.355807</td>\n",
       "      <td>15.952218</td>\n",
       "      <td>115.244002</td>\n",
       "      <td>7.884160</td>\n",
       "      <td>0.331329</td>\n",
       "      <td>11.760232</td>\n",
       "      <td>0.476951</td>\n",
       "    </tr>\n",
       "    <tr>\n",
       "      <th>min</th>\n",
       "      <td>0.000000</td>\n",
       "      <td>0.000000</td>\n",
       "      <td>0.000000</td>\n",
       "      <td>0.000000</td>\n",
       "      <td>0.000000</td>\n",
       "      <td>0.000000</td>\n",
       "      <td>0.078000</td>\n",
       "      <td>21.000000</td>\n",
       "      <td>0.000000</td>\n",
       "    </tr>\n",
       "    <tr>\n",
       "      <th>25%</th>\n",
       "      <td>1.000000</td>\n",
       "      <td>99.000000</td>\n",
       "      <td>62.000000</td>\n",
       "      <td>0.000000</td>\n",
       "      <td>0.000000</td>\n",
       "      <td>27.300000</td>\n",
       "      <td>0.243750</td>\n",
       "      <td>24.000000</td>\n",
       "      <td>0.000000</td>\n",
       "    </tr>\n",
       "    <tr>\n",
       "      <th>50%</th>\n",
       "      <td>3.000000</td>\n",
       "      <td>117.000000</td>\n",
       "      <td>72.000000</td>\n",
       "      <td>23.000000</td>\n",
       "      <td>30.500000</td>\n",
       "      <td>32.000000</td>\n",
       "      <td>0.372500</td>\n",
       "      <td>29.000000</td>\n",
       "      <td>0.000000</td>\n",
       "    </tr>\n",
       "    <tr>\n",
       "      <th>75%</th>\n",
       "      <td>6.000000</td>\n",
       "      <td>140.250000</td>\n",
       "      <td>80.000000</td>\n",
       "      <td>32.000000</td>\n",
       "      <td>127.250000</td>\n",
       "      <td>36.600000</td>\n",
       "      <td>0.626250</td>\n",
       "      <td>41.000000</td>\n",
       "      <td>1.000000</td>\n",
       "    </tr>\n",
       "    <tr>\n",
       "      <th>max</th>\n",
       "      <td>17.000000</td>\n",
       "      <td>199.000000</td>\n",
       "      <td>122.000000</td>\n",
       "      <td>99.000000</td>\n",
       "      <td>846.000000</td>\n",
       "      <td>67.100000</td>\n",
       "      <td>2.420000</td>\n",
       "      <td>81.000000</td>\n",
       "      <td>1.000000</td>\n",
       "    </tr>\n",
       "  </tbody>\n",
       "</table>\n",
       "</div>"
      ],
      "text/plain": [
       "       Pregnancies     Glucose  BloodPressure  SkinThickness     Insulin  \\\n",
       "count   768.000000  768.000000     768.000000     768.000000  768.000000   \n",
       "mean      3.845052  120.894531      69.105469      20.536458   79.799479   \n",
       "std       3.369578   31.972618      19.355807      15.952218  115.244002   \n",
       "min       0.000000    0.000000       0.000000       0.000000    0.000000   \n",
       "25%       1.000000   99.000000      62.000000       0.000000    0.000000   \n",
       "50%       3.000000  117.000000      72.000000      23.000000   30.500000   \n",
       "75%       6.000000  140.250000      80.000000      32.000000  127.250000   \n",
       "max      17.000000  199.000000     122.000000      99.000000  846.000000   \n",
       "\n",
       "              BMI  DiabetesPedigreeFunction         Age     Outcome  \n",
       "count  768.000000                768.000000  768.000000  768.000000  \n",
       "mean    31.992578                  0.471876   33.240885    0.348958  \n",
       "std      7.884160                  0.331329   11.760232    0.476951  \n",
       "min      0.000000                  0.078000   21.000000    0.000000  \n",
       "25%     27.300000                  0.243750   24.000000    0.000000  \n",
       "50%     32.000000                  0.372500   29.000000    0.000000  \n",
       "75%     36.600000                  0.626250   41.000000    1.000000  \n",
       "max     67.100000                  2.420000   81.000000    1.000000  "
      ]
     },
     "execution_count": 30,
     "metadata": {},
     "output_type": "execute_result"
    }
   ],
   "source": [
    "data.describe()"
   ]
  },
  {
   "cell_type": "markdown",
   "metadata": {},
   "source": [
    "### **Chargement et analyse du jeu de donnees**"
   ]
  },
  {
   "cell_type": "code",
   "execution_count": 11,
   "metadata": {},
   "outputs": [
    {
     "name": "stdout",
     "output_type": "stream",
     "text": [
      "Colonnes du dataset: ['Pregnancies', 'Glucose', 'BloodPressure', 'SkinThickness', 'Insulin', 'BMI', 'DiabetesPedigreeFunction', 'Age']\n",
      "\n",
      "Distribution des classes:\n",
      "Outcome\n",
      "0    0.651042\n",
      "1    0.348958\n",
      "Name: proportion, dtype: float64\n"
     ]
    }
   ],
   "source": [
    "analyser = DiscriminantAnalyser('./diabetes.csv', 'Outcome')"
   ]
  },
  {
   "cell_type": "markdown",
   "metadata": {},
   "source": [
    "### **Identifions les variables discriminantes**"
   ]
  },
  {
   "cell_type": "code",
   "execution_count": null,
   "metadata": {},
   "outputs": [
    {
     "name": "stdout",
     "output_type": "stream",
     "text": [
      "\n",
      "1. Variables Discriminantes:\n"
     ]
    },
    {
     "data": {
      "image/png": "[encoded data removed]",
      "text/plain": [
       "<Figure size 1200x600 with 1 Axes>"
      ]
     },
     "metadata": {},
     "output_type": "display_data"
    },
    {
     "name": "stdout",
     "output_type": "stream",
     "text": [
      "                   Variable  Coefficients  Importance_Absolue\n",
      "1                   Glucose      1.182393            1.182393\n",
      "5                       BMI      0.821313            0.821313\n",
      "7                       Age      0.474518            0.474518\n",
      "2             BloodPressure     -0.213328            0.213328\n",
      "0               Pregnancies      0.195198            0.195198\n",
      "6  DiabetesPedigreeFunction      0.155577            0.155577\n",
      "4                   Insulin     -0.093898            0.093898\n",
      "3             SkinThickness     -0.026017            0.026017\n"
     ]
    }
   ],
   "source": [
    "variables_importantes = analyser.analyse_discriminant_variables()\n",
    "print(variables_importantes)"
   ]
  },
  {
   "cell_type": "markdown",
   "metadata": {},
   "source": [
    "### **Interpretation**\n",
    "— `Le glucose` est de loin le facteur le plus discriminant <br>\n",
    "— `L’IMC (BMI) et l’âge` sont les deuxième et troisième facteurs les plus impor-\n",
    "tants <br>\n",
    "— **L’épaisseur cutanée** a l’impact le plus faible sur la discrimination"
   ]
  },
  {
   "cell_type": "markdown",
   "metadata": {},
   "source": [
    "### **Reduisons la dimensionnalité et visualisons**"
   ]
  },
  {
   "cell_type": "code",
   "execution_count": 15,
   "metadata": {},
   "outputs": [
    {
     "data": {
      "image/png": "[encoded data removed]",
      "text/plain": [
       "<Figure size 1000x600 with 2 Axes>"
      ]
     },
     "metadata": {},
     "output_type": "display_data"
    }
   ],
   "source": [
    "analyser.visualize_projection()"
   ]
  },
  {
   "cell_type": "markdown",
   "metadata": {},
   "source": [
    "### Interpretation : <br>\n",
    "Cette projection des donnees montre une séparation des classes sur l’axe discriminant\n",
    "principal, avec un certain chevauchement entre les groupes diabétiques et non dia-\n",
    "bétiques."
   ]
  },
  {
   "cell_type": "markdown",
   "metadata": {},
   "source": [
    "### **Evaluons le modele**"
   ]
  },
  {
   "cell_type": "code",
   "execution_count": 32,
   "metadata": {},
   "outputs": [
    {
     "data": {
      "image/png": "[encoded data removed]",
      "text/plain": [
       "<Figure size 800x600 with 2 Axes>"
      ]
     },
     "metadata": {},
     "output_type": "display_data"
    },
    {
     "name": "stdout",
     "output_type": "stream",
     "text": [
      "\n",
      "Accuracy: 0.7316017316017316\n",
      "\n",
      "Matrice de Confusion:\n",
      "[[120  31]\n",
      " [ 31  49]]\n",
      "\n",
      "Rapport de Classification:\n",
      "              precision    recall  f1-score   support\n",
      "\n",
      "           0       0.79      0.79      0.79       151\n",
      "           1       0.61      0.61      0.61        80\n",
      "\n",
      "    accuracy                           0.73       231\n",
      "   macro avg       0.70      0.70      0.70       231\n",
      "weighted avg       0.73      0.73      0.73       231\n",
      "\n"
     ]
    }
   ],
   "source": [
    "performance = analyser.evaluate_model()"
   ]
  },
  {
   "cell_type": "markdown",
   "metadata": {},
   "source": [
    "### Interpretation du modele : <br>\n",
    "\n",
    "Le modèle montre une meilleure performance pour identifier les cas négatifs (non\n",
    "diabétiques) que les cas positifs (diabétiques), ce qui est reflété par une spécificité\n",
    "plus élevée que la sensibilité."
   ]
  },
  {
   "cell_type": "markdown",
   "metadata": {},
   "source": [
    "### **Exemple de prédiction pour un nouveau patient**"
   ]
  },
  {
   "cell_type": "code",
   "execution_count": 27,
   "metadata": {},
   "outputs": [
    {
     "name": "stdout",
     "output_type": "stream",
     "text": [
      "===( La classe predite est : 1\n",
      "===( La probabilite que l'individu possede le diabete est : 0.7595892374590419\n",
      "===( La probabilite que l'individu ne possede pas le diabete est : 0.24041076254095806 \n",
      "\n",
      "\n"
     ]
    },
    {
     "name": "stderr",
     "output_type": "stream",
     "text": [
      "/home/pharaon/.local/lib/python3.12/site-packages/sklearn/base.py:493: UserWarning: X does not have valid feature names, but StandardScaler was fitted with feature names\n",
      "  warnings.warn(\n"
     ]
    }
   ],
   "source": [
    "new_sample = [ 6, 148, 72, 35, 0, 33.6, 0.627, 50 ]\n",
    "\n",
    "prediction = analyser.predict_new_sample(new_sample)\n",
    "\n",
    "\n",
    "print(f\"===( La classe predite est : {prediction['classe_predite']}\")\n",
    "print(f\"===( La probabilite que l'individu possede le diabete est : {prediction['probabilites'][1]}\")\n",
    "print(f\"===( La probabilite que l'individu ne possede pas le diabete est : {prediction['probabilites'][0]} \\n\\n\")"
   ]
  }
 ],
 "metadata": {
  "kernelspec": {
   "display_name": "Python 3",
   "language": "python",
   "name": "python3"
  },
  "language_info": {
   "codemirror_mode": {
    "name": "ipython",
    "version": 3
   },
   "file_extension": ".py",
   "mimetype": "text/x-python",
   "name": "python",
   "nbconvert_exporter": "python",
   "pygments_lexer": "ipython3",
   "version": "3.12.6"
  }
 },
 "nbformat": 4,
 "nbformat_minor": 2
}
